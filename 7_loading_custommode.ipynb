{
 "cells": [
  {
   "cell_type": "markdown",
   "metadata": {},
   "source": [
    "## now once you have saved the model parameters\n",
    "\n",
    "you have to first replicate the neural network excatly the same as you did when you trained it\n"
   ]
  },
  {
   "cell_type": "code",
   "execution_count": 1,
   "metadata": {},
   "outputs": [],
   "source": [
    "import torch\n",
    "import torch.nn as nn\n",
    "import torch.optim as optim\n",
    "from torchvision import datasets, transforms"
   ]
  },
  {
   "cell_type": "code",
   "execution_count": 2,
   "metadata": {},
   "outputs": [],
   "source": [
    "# Define the customNN model (same as the one in the original file)\n",
    "class customNN(nn.Module):\n",
    "    def __init__(self, input_size, hidden_size, num_classes):\n",
    "        super(customNN, self).__init__()\n",
    "        self.fc1 = nn.Linear(input_size, hidden_size)\n",
    "        self.fc2 = nn.Linear(hidden_size, hidden_size)\n",
    "        self.fc3 = nn.Linear(hidden_size, hidden_size)\n",
    "        self.fc4 = nn.Linear(hidden_size, hidden_size)\n",
    "        self.fc_out = nn.Linear(hidden_size, num_classes)\n",
    "        self.relu = nn.ReLU()\n",
    "    \n",
    "    def forward(self, x):\n",
    "        # Flatten the input image\n",
    "        x = x.view(x.size(0), -1)\n",
    "        \n",
    "        x = self.relu(self.fc1(x))\n",
    "        x = self.relu(self.fc2(x))\n",
    "        x = self.relu(self.fc3(x))\n",
    "        x = self.relu(self.fc4(x))\n",
    "        x = self.fc_out(x)\n",
    "        return x"
   ]
  },
  {
   "cell_type": "code",
   "execution_count": 3,
   "metadata": {},
   "outputs": [],
   "source": [
    "\n",
    "# Initialize the model (ensure it matches the original model's architecture)\n",
    "input_size = 80 * 80 * 3\n",
    "hidden_size = 128\n",
    "num_classes = 4\n",
    "model = customNN(input_size=input_size, hidden_size=hidden_size, num_classes=num_classes)\n"
   ]
  },
  {
   "cell_type": "code",
   "execution_count": 4,
   "metadata": {},
   "outputs": [
    {
     "name": "stderr",
     "output_type": "stream",
     "text": [
      "C:\\Users\\ajukh\\AppData\\Local\\Temp\\ipykernel_6012\\3911181947.py:2: FutureWarning: You are using `torch.load` with `weights_only=False` (the current default value), which uses the default pickle module implicitly. It is possible to construct malicious pickle data which will execute arbitrary code during unpickling (See https://github.com/pytorch/pytorch/blob/main/SECURITY.md#untrusted-models for more details). In a future release, the default value for `weights_only` will be flipped to `True`. This limits the functions that could be executed during unpickling. Arbitrary objects will no longer be allowed to be loaded via this mode unless they are explicitly allowlisted by the user via `torch.serialization.add_safe_globals`. We recommend you start setting `weights_only=True` for any use case where you don't have full control of the loaded file. Please open an issue on GitHub for any issues related to this experimental feature.\n",
      "  model.load_state_dict(torch.load(saved_model_path))\n"
     ]
    },
    {
     "data": {
      "text/plain": [
       "<All keys matched successfully>"
      ]
     },
     "execution_count": 4,
     "metadata": {},
     "output_type": "execute_result"
    }
   ],
   "source": [
    "saved_model_path = './nn/customdata'\n",
    "model.load_state_dict(torch.load(saved_model_path))"
   ]
  },
  {
   "cell_type": "code",
   "execution_count": 14,
   "metadata": {},
   "outputs": [],
   "source": [
    "from PIL import Image\n",
    "def find_the_actor(img_path):\n",
    "    # Define the transformation (resizing, converting to tensor, normalization)\n",
    "    transform = transforms.Compose([\n",
    "        transforms.Resize((80, 80)),  # Ensure the size matches the training images\n",
    "        transforms.ToTensor(),        # Convert the image to a tensor\n",
    "        transforms.Normalize(mean=[0.5, 0.5, 0.5], std=[0.5, 0.5, 0.5])  # Normalize with the same values\n",
    "    ])\n",
    "    img = Image.open(img_path)\n",
    "    imp_tensor = transform(img).unsqueeze(0)\n",
    "    # Ensure the model is in evaluation mode\n",
    "    model.eval()\n",
    "\n",
    "    # Perform inference without tracking gradients\n",
    "    with torch.no_grad():\n",
    "        output = model(imp_tensor)\n",
    "\n",
    "\n",
    "    _, predicted = torch.max(output,1)\n",
    "\n",
    "    # Print the predicted class\n",
    "    print(f'Predicted class: {predicted.item()}')\n",
    "\n",
    "    classname = ['brad_pit', 'decaprio', 'johny_deep', 'keauna_reaves']\n",
    "    # Print the predicted class\n",
    "    print(f'the image is of: {classname[predicted.item()]}')"
   ]
  },
  {
   "cell_type": "code",
   "execution_count": 17,
   "metadata": {},
   "outputs": [
    {
     "name": "stdout",
     "output_type": "stream",
     "text": [
      "Predicted class: 0\n",
      "the image is of: brad_pit\n",
      "Predicted class: 2\n",
      "the image is of: johny_deep\n",
      "Predicted class: 3\n",
      "the image is of: keauna_reaves\n"
     ]
    }
   ],
   "source": [
    "find_the_actor('./ImgFolderDataset/test/dep1.jpg')\n",
    "find_the_actor('./ImgFolderDataset/test/leo1.jpg')\n",
    "find_the_actor('./ImgFolderDataset/test/a.jpg')"
   ]
  }
 ],
 "metadata": {
  "kernelspec": {
   "display_name": "myenv",
   "language": "python",
   "name": "python3"
  },
  "language_info": {
   "codemirror_mode": {
    "name": "ipython",
    "version": 3
   },
   "file_extension": ".py",
   "mimetype": "text/x-python",
   "name": "python",
   "nbconvert_exporter": "python",
   "pygments_lexer": "ipython3",
   "version": "3.10.5"
  }
 },
 "nbformat": 4,
 "nbformat_minor": 2
}
