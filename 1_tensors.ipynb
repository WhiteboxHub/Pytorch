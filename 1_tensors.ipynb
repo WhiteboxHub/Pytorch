{
 "cells": [
  {
   "cell_type": "code",
   "execution_count": 1,
   "metadata": {},
   "outputs": [
    {
     "name": "stdout",
     "output_type": "stream",
     "text": [
      "Note: you may need to restart the kernel to use updated packages.\n"
     ]
    },
    {
     "name": "stderr",
     "output_type": "stream",
     "text": [
      "WARNING: You are using pip version 22.0.4; however, version 24.3.1 is available.\n",
      "You should consider upgrading via the 'c:\\Users\\ajukh\\OneDrive\\Desktop\\Pytorch_codeBase\\myenv\\Scripts\\python.exe -m pip install --upgrade pip' command.\n"
     ]
    }
   ],
   "source": [
    "%pip install -q torch"
   ]
  },
  {
   "cell_type": "code",
   "execution_count": 1,
   "metadata": {},
   "outputs": [
    {
     "name": "stdout",
     "output_type": "stream",
     "text": [
      "1D Tensor: tensor([1., 2., 3., 4., 5.])\n",
      "Shape of 1D Tensor: torch.Size([5])\n"
     ]
    }
   ],
   "source": [
    "import torch\n",
    "\n",
    "# Example of a 1D tensor\n",
    "tensor_1d = torch.tensor([1, 2, 3, 4, 5], dtype=torch.float32)\n",
    "\n",
    "print(\"1D Tensor:\", tensor_1d)\n",
    "print(\"Shape of 1D Tensor:\", tensor_1d.shape)  # Shape: (5,)\n"
   ]
  },
  {
   "cell_type": "code",
   "execution_count": 2,
   "metadata": {},
   "outputs": [
    {
     "name": "stdout",
     "output_type": "stream",
     "text": [
      "\n",
      "2D Tensor:\n",
      " tensor([[1., 2., 3.],\n",
      "        [4., 5., 6.]])\n",
      "Shape of 2D Tensor: torch.Size([2, 3])\n"
     ]
    }
   ],
   "source": [
    "# Example of a 2D tensor\n",
    "tensor_2d = torch.tensor([[1, 2, 3], [4, 5, 6]], dtype=torch.float32)\n",
    "\n",
    "print(\"\\n2D Tensor:\\n\", tensor_2d)\n",
    "print(\"Shape of 2D Tensor:\", tensor_2d.shape)  # Shape: (2, 3)\n"
   ]
  },
  {
   "cell_type": "code",
   "execution_count": 3,
   "metadata": {},
   "outputs": [
    {
     "name": "stdout",
     "output_type": "stream",
     "text": [
      "\n",
      "3D Tensor:\n",
      " tensor([[[ 1.,  2.,  3.],\n",
      "         [ 4.,  5.,  6.]],\n",
      "\n",
      "        [[ 7.,  8.,  9.],\n",
      "         [10., 11., 12.]]])\n",
      "Shape of 3D Tensor: torch.Size([2, 2, 3])\n"
     ]
    }
   ],
   "source": [
    "# Example of a 3D tensor\n",
    "tensor_3d = torch.tensor([\n",
    "    [[1, 2, 3], [4, 5, 6]],\n",
    "    [[7, 8, 9], [10, 11, 12]]\n",
    "], dtype=torch.float32)\n",
    "\n",
    "print(\"\\n3D Tensor:\\n\", tensor_3d)\n",
    "print(\"Shape of 3D Tensor:\", tensor_3d.shape)  # Shape: (2, 2, 3)\n"
   ]
  },
  {
   "cell_type": "code",
   "execution_count": 4,
   "metadata": {},
   "outputs": [
    {
     "name": "stdout",
     "output_type": "stream",
     "text": [
      "Note: you may need to restart the kernel to use updated packages.\n"
     ]
    },
    {
     "name": "stderr",
     "output_type": "stream",
     "text": [
      "WARNING: You are using pip version 22.0.4; however, version 24.3.1 is available.\n",
      "You should consider upgrading via the 'c:\\Users\\ajukh\\OneDrive\\Desktop\\Pytorch_codeBase\\myenv\\Scripts\\python.exe -m pip install --upgrade pip' command.\n"
     ]
    }
   ],
   "source": [
    "%pip install -q torchvision numpy"
   ]
  },
  {
   "cell_type": "markdown",
   "metadata": {},
   "source": [
    "## Lets convert a img from local to a tensor\n"
   ]
  },
  {
   "cell_type": "code",
   "execution_count": 5,
   "metadata": {},
   "outputs": [
    {
     "name": "stdout",
     "output_type": "stream",
     "text": [
      "Requirement already satisfied: numpy in c:\\users\\ajukh\\onedrive\\desktop\\pytorch_codebase\\myenv\\lib\\site-packages (2.2.1)Note: you may need to restart the kernel to use updated packages.\n"
     ]
    },
    {
     "name": "stderr",
     "output_type": "stream",
     "text": [
      "WARNING: You are using pip version 22.0.4; however, version 24.3.1 is available.\n",
      "You should consider upgrading via the 'c:\\Users\\ajukh\\OneDrive\\Desktop\\Pytorch_codeBase\\myenv\\Scripts\\python.exe -m pip install --upgrade pip' command.\n"
     ]
    },
    {
     "name": "stdout",
     "output_type": "stream",
     "text": [
      "\n"
     ]
    }
   ],
   "source": [
    "%pip install numpy"
   ]
  },
  {
   "cell_type": "code",
   "execution_count": 6,
   "metadata": {},
   "outputs": [],
   "source": [
    "#importing the requried packages\n",
    "\n",
    "from PIL import Image\n",
    "from torchvision import transforms\n",
    "import torch"
   ]
  },
  {
   "cell_type": "code",
   "execution_count": null,
   "metadata": {},
   "outputs": [],
   "source": []
  },
  {
   "cell_type": "code",
   "execution_count": 7,
   "metadata": {},
   "outputs": [],
   "source": [
    "img_path = \"./Resources/img1.png\""
   ]
  },
  {
   "cell_type": "code",
   "execution_count": 8,
   "metadata": {},
   "outputs": [],
   "source": [
    "#load the img using PIL (PYTHON IMAGE LIBRARY)\n",
    "image = Image.open(img_path).convert(\"RGB\")"
   ]
  },
  {
   "cell_type": "code",
   "execution_count": 15,
   "metadata": {},
   "outputs": [
    {
     "name": "stdout",
     "output_type": "stream",
     "text": [
      "3D Tensor (Image): tensor([[[0.1882, 0.2314, 0.0941,  ..., 0.3412, 0.0627, 0.1373],\n",
      "         [0.1569, 0.1176, 0.1412,  ..., 0.3098, 0.3569, 0.3255],\n",
      "         [0.1373, 0.0667, 0.1569,  ..., 0.1843, 0.4078, 0.3373],\n",
      "         ...,\n",
      "         [0.5882, 0.4745, 0.4667,  ..., 0.4353, 0.4549, 0.4510],\n",
      "         [0.5137, 0.4941, 0.5216,  ..., 0.4549, 0.4902, 0.5137],\n",
      "         [0.4667, 0.4510, 0.4784,  ..., 0.5059, 0.5255, 0.5333]],\n",
      "\n",
      "        [[0.1608, 0.2039, 0.0706,  ..., 0.3294, 0.0588, 0.1333],\n",
      "         [0.1294, 0.0941, 0.1176,  ..., 0.2863, 0.3333, 0.3020],\n",
      "         [0.1137, 0.0431, 0.1333,  ..., 0.1216, 0.3451, 0.2745],\n",
      "         ...,\n",
      "         [0.5725, 0.4588, 0.4431,  ..., 0.5412, 0.5725, 0.5686],\n",
      "         [0.5451, 0.5255, 0.5412,  ..., 0.5451, 0.5804, 0.6039],\n",
      "         [0.5176, 0.5020, 0.5216,  ..., 0.5882, 0.6118, 0.6196]],\n",
      "\n",
      "        [[0.0980, 0.1412, 0.0157,  ..., 0.2000, 0.0000, 0.0157],\n",
      "         [0.0667, 0.0314, 0.0627,  ..., 0.1608, 0.2078, 0.1765],\n",
      "         [0.0588, 0.0000, 0.0863,  ..., 0.0000, 0.2157, 0.1412],\n",
      "         ...,\n",
      "         [0.1804, 0.0667, 0.0588,  ..., 0.0275, 0.0549, 0.0510],\n",
      "         [0.0706, 0.0510, 0.0706,  ..., 0.0275, 0.0627, 0.0863],\n",
      "         [0.0039, 0.0000, 0.0118,  ..., 0.0745, 0.0863, 0.0941]]])\n",
      "\n",
      " \n",
      " Shape of the 3D Tensor  (dimension , height , width): torch.Size([3, 330, 550])\n"
     ]
    }
   ],
   "source": [
    "transform = transforms.ToTensor()\n",
    "img_tensor = transform(image)\n",
    "\n",
    "print(\"3D Tensor (Image):\",img_tensor)\n",
    "print(\"\\n \\n Shape of the 3D Tensor  (dimension , height , width):\",img_tensor.shape)"
   ]
  },
  {
   "cell_type": "markdown",
   "metadata": {},
   "source": [
    "### Now lets convert the image into tensor But for a change we will deside the shape (height, width) of the tensor\n",
    "it will still be 3D tensor but you can see the other 2 dimensions (height, width) can be changed according to our needs"
   ]
  },
  {
   "cell_type": "code",
   "execution_count": 19,
   "metadata": {},
   "outputs": [],
   "source": [
    "desired_size = (128 , 128)\n",
    "# defining the transformor pipe line\n",
    "transform = transforms.Compose([\n",
    "    transforms.Resize(desired_size)\n",
    "    ,transforms.ToTensor()\n",
    "])"
   ]
  },
  {
   "cell_type": "code",
   "execution_count": 20,
   "metadata": {},
   "outputs": [
    {
     "name": "stdout",
     "output_type": "stream",
     "text": [
      "3D Tensor (Image): tensor([[[0.1294, 0.1216, 0.2941,  ..., 0.2118, 0.2000, 0.2431],\n",
      "         [0.1255, 0.1255, 0.2353,  ..., 0.1451, 0.1255, 0.2000],\n",
      "         [0.1333, 0.1529, 0.2118,  ..., 0.1137, 0.0824, 0.1255],\n",
      "         ...,\n",
      "         [0.1843, 0.1725, 0.1765,  ..., 0.3529, 0.3451, 0.3765],\n",
      "         [0.3608, 0.3882, 0.4000,  ..., 0.4431, 0.4431, 0.4431],\n",
      "         [0.4784, 0.5098, 0.5216,  ..., 0.4353, 0.4549, 0.4706]],\n",
      "\n",
      "        [[0.1020, 0.0941, 0.2431,  ..., 0.1725, 0.1804, 0.2157],\n",
      "         [0.1059, 0.1020, 0.1882,  ..., 0.1098, 0.1216, 0.1922],\n",
      "         [0.1098, 0.1176, 0.1569,  ..., 0.0941, 0.0863, 0.1137],\n",
      "         ...,\n",
      "         [0.1412, 0.1294, 0.1255,  ..., 0.2824, 0.2667, 0.2902],\n",
      "         [0.3098, 0.3294, 0.3294,  ..., 0.4627, 0.4627, 0.4784],\n",
      "         [0.4941, 0.5137, 0.5098,  ..., 0.5412, 0.5569, 0.5647]],\n",
      "\n",
      "        [[0.0549, 0.0588, 0.1765,  ..., 0.0627, 0.0824, 0.0980],\n",
      "         [0.0588, 0.0588, 0.1216,  ..., 0.0275, 0.0392, 0.0902],\n",
      "         [0.0627, 0.0706, 0.0824,  ..., 0.0471, 0.0392, 0.0627],\n",
      "         ...,\n",
      "         [0.0392, 0.0314, 0.0353,  ..., 0.0745, 0.0588, 0.0745],\n",
      "         [0.0667, 0.0902, 0.1059,  ..., 0.0471, 0.0431, 0.0510],\n",
      "         [0.0510, 0.0745, 0.0784,  ..., 0.0275, 0.0392, 0.0510]]])\n",
      "\n",
      " \n",
      " Shape of the 3D Tensor  (dimension , height , width): torch.Size([3, 128, 128])\n"
     ]
    }
   ],
   "source": [
    "# applying the transformation to the image loaded previously\n",
    "new_img_tensor = transform(image)\n",
    "\n",
    "print(\"3D Tensor (Image):\",new_img_tensor)\n",
    "# in the results you can the height and width of the tensor is as we desired\n",
    "print(\"\\n \\n Shape of the 3D Tensor  (dimension , height , width):\",new_img_tensor.shape)"
   ]
  },
  {
   "cell_type": "code",
   "execution_count": null,
   "metadata": {},
   "outputs": [],
   "source": []
  }
 ],
 "metadata": {
  "kernelspec": {
   "display_name": "myenv",
   "language": "python",
   "name": "python3"
  },
  "language_info": {
   "codemirror_mode": {
    "name": "ipython",
    "version": 3
   },
   "file_extension": ".py",
   "mimetype": "text/x-python",
   "name": "python",
   "nbconvert_exporter": "python",
   "pygments_lexer": "ipython3",
   "version": "3.10.5"
  }
 },
 "nbformat": 4,
 "nbformat_minor": 2
}
