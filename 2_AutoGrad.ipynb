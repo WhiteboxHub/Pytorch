{
 "cells": [
  {
   "cell_type": "code",
   "execution_count": 2,
   "metadata": {},
   "outputs": [],
   "source": [
    "import torch\n",
    "import torchvision.transforms as transforms\n",
    "from PIL import Image"
   ]
  },
  {
   "cell_type": "code",
   "execution_count": 12,
   "metadata": {},
   "outputs": [
    {
     "name": "stdout",
     "output_type": "stream",
     "text": [
      "tensor(4.)\n"
     ]
    }
   ],
   "source": [
    "x = torch.tensor(2.0,requires_grad=True)\n",
    "y = x**2\n",
    "y.backward()\n",
    "print(x.grad)"
   ]
  },
  {
   "cell_type": "code",
   "execution_count": 3,
   "metadata": {},
   "outputs": [],
   "source": [
    "image_path = \"./Resources/img1.png\""
   ]
  },
  {
   "cell_type": "code",
   "execution_count": 4,
   "metadata": {},
   "outputs": [
    {
     "data": {
      "text/plain": [
       "tensor([[[0.1882, 0.2314, 0.0941,  ..., 0.3412, 0.0627, 0.1373],\n",
       "         [0.1569, 0.1176, 0.1412,  ..., 0.3098, 0.3569, 0.3255],\n",
       "         [0.1373, 0.0667, 0.1569,  ..., 0.1843, 0.4078, 0.3373],\n",
       "         ...,\n",
       "         [0.5882, 0.4745, 0.4667,  ..., 0.4353, 0.4549, 0.4510],\n",
       "         [0.5137, 0.4941, 0.5216,  ..., 0.4549, 0.4902, 0.5137],\n",
       "         [0.4667, 0.4510, 0.4784,  ..., 0.5059, 0.5255, 0.5333]],\n",
       "\n",
       "        [[0.1608, 0.2039, 0.0706,  ..., 0.3294, 0.0588, 0.1333],\n",
       "         [0.1294, 0.0941, 0.1176,  ..., 0.2863, 0.3333, 0.3020],\n",
       "         [0.1137, 0.0431, 0.1333,  ..., 0.1216, 0.3451, 0.2745],\n",
       "         ...,\n",
       "         [0.5725, 0.4588, 0.4431,  ..., 0.5412, 0.5725, 0.5686],\n",
       "         [0.5451, 0.5255, 0.5412,  ..., 0.5451, 0.5804, 0.6039],\n",
       "         [0.5176, 0.5020, 0.5216,  ..., 0.5882, 0.6118, 0.6196]],\n",
       "\n",
       "        [[0.0980, 0.1412, 0.0157,  ..., 0.2000, 0.0000, 0.0157],\n",
       "         [0.0667, 0.0314, 0.0627,  ..., 0.1608, 0.2078, 0.1765],\n",
       "         [0.0588, 0.0000, 0.0863,  ..., 0.0000, 0.2157, 0.1412],\n",
       "         ...,\n",
       "         [0.1804, 0.0667, 0.0588,  ..., 0.0275, 0.0549, 0.0510],\n",
       "         [0.0706, 0.0510, 0.0706,  ..., 0.0275, 0.0627, 0.0863],\n",
       "         [0.0039, 0.0000, 0.0118,  ..., 0.0745, 0.0863, 0.0941]]])"
      ]
     },
     "execution_count": 4,
     "metadata": {},
     "output_type": "execute_result"
    }
   ],
   "source": [
    "image = Image.open(image_path).convert(\"RGB\")\n",
    "transform = transforms.ToTensor()\n",
    "#converting the image to tensor\n",
    "img_tensor  = transform(image)\n",
    "\n",
    "img_tensor"
   ]
  },
  {
   "cell_type": "code",
   "execution_count": 5,
   "metadata": {},
   "outputs": [
    {
     "data": {
      "text/plain": [
       "tensor([[[[0.1882, 0.2314, 0.0941,  ..., 0.3412, 0.0627, 0.1373],\n",
       "          [0.1569, 0.1176, 0.1412,  ..., 0.3098, 0.3569, 0.3255],\n",
       "          [0.1373, 0.0667, 0.1569,  ..., 0.1843, 0.4078, 0.3373],\n",
       "          ...,\n",
       "          [0.5882, 0.4745, 0.4667,  ..., 0.4353, 0.4549, 0.4510],\n",
       "          [0.5137, 0.4941, 0.5216,  ..., 0.4549, 0.4902, 0.5137],\n",
       "          [0.4667, 0.4510, 0.4784,  ..., 0.5059, 0.5255, 0.5333]],\n",
       "\n",
       "         [[0.1608, 0.2039, 0.0706,  ..., 0.3294, 0.0588, 0.1333],\n",
       "          [0.1294, 0.0941, 0.1176,  ..., 0.2863, 0.3333, 0.3020],\n",
       "          [0.1137, 0.0431, 0.1333,  ..., 0.1216, 0.3451, 0.2745],\n",
       "          ...,\n",
       "          [0.5725, 0.4588, 0.4431,  ..., 0.5412, 0.5725, 0.5686],\n",
       "          [0.5451, 0.5255, 0.5412,  ..., 0.5451, 0.5804, 0.6039],\n",
       "          [0.5176, 0.5020, 0.5216,  ..., 0.5882, 0.6118, 0.6196]],\n",
       "\n",
       "         [[0.0980, 0.1412, 0.0157,  ..., 0.2000, 0.0000, 0.0157],\n",
       "          [0.0667, 0.0314, 0.0627,  ..., 0.1608, 0.2078, 0.1765],\n",
       "          [0.0588, 0.0000, 0.0863,  ..., 0.0000, 0.2157, 0.1412],\n",
       "          ...,\n",
       "          [0.1804, 0.0667, 0.0588,  ..., 0.0275, 0.0549, 0.0510],\n",
       "          [0.0706, 0.0510, 0.0706,  ..., 0.0275, 0.0627, 0.0863],\n",
       "          [0.0039, 0.0000, 0.0118,  ..., 0.0745, 0.0863, 0.0941]]]],\n",
       "       requires_grad=True)"
      ]
     },
     "execution_count": 5,
     "metadata": {},
     "output_type": "execute_result"
    }
   ],
   "source": [
    "# Add a batch dimension  and enable gradients\n",
    "image_tensor = img_tensor.unsqueeze(0)\n",
    "image_tensor.requires_grad_()"
   ]
  },
  {
   "cell_type": "code",
   "execution_count": 7,
   "metadata": {},
   "outputs": [],
   "source": [
    "loss = image_tensor.sum()\n",
    "loss.backward()"
   ]
  },
  {
   "cell_type": "code",
   "execution_count": 8,
   "metadata": {},
   "outputs": [
    {
     "name": "stdout",
     "output_type": "stream",
     "text": [
      "Gradient shape: torch.Size([1, 3, 330, 550])\n",
      "Gradient values: tensor([[[[1., 1., 1.,  ..., 1., 1., 1.],\n",
      "          [1., 1., 1.,  ..., 1., 1., 1.],\n",
      "          [1., 1., 1.,  ..., 1., 1., 1.],\n",
      "          ...,\n",
      "          [1., 1., 1.,  ..., 1., 1., 1.],\n",
      "          [1., 1., 1.,  ..., 1., 1., 1.],\n",
      "          [1., 1., 1.,  ..., 1., 1., 1.]],\n",
      "\n",
      "         [[1., 1., 1.,  ..., 1., 1., 1.],\n",
      "          [1., 1., 1.,  ..., 1., 1., 1.],\n",
      "          [1., 1., 1.,  ..., 1., 1., 1.],\n",
      "          ...,\n",
      "          [1., 1., 1.,  ..., 1., 1., 1.],\n",
      "          [1., 1., 1.,  ..., 1., 1., 1.],\n",
      "          [1., 1., 1.,  ..., 1., 1., 1.]],\n",
      "\n",
      "         [[1., 1., 1.,  ..., 1., 1., 1.],\n",
      "          [1., 1., 1.,  ..., 1., 1., 1.],\n",
      "          [1., 1., 1.,  ..., 1., 1., 1.],\n",
      "          ...,\n",
      "          [1., 1., 1.,  ..., 1., 1., 1.],\n",
      "          [1., 1., 1.,  ..., 1., 1., 1.],\n",
      "          [1., 1., 1.,  ..., 1., 1., 1.]]]])\n"
     ]
    }
   ],
   "source": [
    "# Display the gradient of the image tensor\n",
    "print(\"Gradient shape:\", image_tensor.grad.shape)\n",
    "print(\"Gradient values:\", image_tensor.grad)"
   ]
  },
  {
   "cell_type": "code",
   "execution_count": null,
   "metadata": {},
   "outputs": [],
   "source": []
  }
 ],
 "metadata": {
  "kernelspec": {
   "display_name": "myenv",
   "language": "python",
   "name": "python3"
  },
  "language_info": {
   "codemirror_mode": {
    "name": "ipython",
    "version": 3
   },
   "file_extension": ".py",
   "mimetype": "text/x-python",
   "name": "python",
   "nbconvert_exporter": "python",
   "pygments_lexer": "ipython3",
   "version": "3.10.5"
  }
 },
 "nbformat": 4,
 "nbformat_minor": 2
}
